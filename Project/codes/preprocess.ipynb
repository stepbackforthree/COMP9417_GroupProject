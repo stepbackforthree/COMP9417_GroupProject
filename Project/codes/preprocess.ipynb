{
 "cells": [
  {
   "cell_type": "code",
   "execution_count": 1,
   "metadata": {
    "collapsed": true
   },
   "outputs": [],
   "source": [
    "import pandas as pd\n",
    "import numpy as np\n",
    "import skmem\n",
    "\n",
    "train_set = pd.read_csv('../data/train.csv')\n",
    "test_set = pd.read_csv('../data/test.csv')\n",
    "\n",
    "weather_train_set = pd.read_csv('../data/weather_train.csv')\n",
    "weather_test_set = pd.read_csv('../data/weather_test.csv')\n",
    "\n",
    "building_metadata = pd.read_csv('../data/building_metadata.csv')\n",
    "\n",
    "sample_submission = pd.read_csv('../data/sample_submission.csv')"
   ]
  },
  {
   "cell_type": "code",
   "execution_count": 2,
   "outputs": [],
   "source": [
    "train_data = pd.merge(train_set, building_metadata, on='building_id')\n",
    "train_data = pd.merge(train_data, weather_train_set, on=['site_id', 'timestamp'])"
   ],
   "metadata": {
    "collapsed": false,
    "pycharm": {
     "name": "#%%\n"
    }
   }
  },
  {
   "cell_type": "code",
   "execution_count": 3,
   "outputs": [
    {
     "name": "stdout",
     "output_type": "stream",
     "text": [
      "Getting memory usage.\n",
      "Memory in: 5092.41 MB\n",
      "Starting integers.\n",
      "Downcast 4 standard integer columns.\n",
      "Starting floats.\n",
      "auto\n",
      "Skipping columns that are not np.float64\n",
      "Downcast 10 float columns.\n",
      "Starting objects.\n",
      "Converted 2 columns to categories.\n",
      "Memory out: 1133.29 MB Reduction: 77.7%\n",
      "\n"
     ]
    }
   ],
   "source": [
    "mr = skmem.MemReducer()\n",
    "train_data = mr.fit_transform(train_data)"
   ],
   "metadata": {
    "collapsed": false,
    "pycharm": {
     "name": "#%%\n"
    }
   }
  },
  {
   "cell_type": "code",
   "execution_count": 4,
   "outputs": [],
   "source": [
    "train_data['primary_use'] = pd.Categorical(train_data['primary_use']).codes"
   ],
   "metadata": {
    "collapsed": false,
    "pycharm": {
     "name": "#%%\n"
    }
   }
  },
  {
   "cell_type": "code",
   "execution_count": 5,
   "outputs": [],
   "source": [
    "test_data = pd.merge(test_set, building_metadata, on='building_id')\n",
    "test_data = pd.merge(test_data, weather_test_set, on=['site_id', 'timestamp'])"
   ],
   "metadata": {
    "collapsed": false,
    "pycharm": {
     "name": "#%%\n"
    }
   }
  },
  {
   "cell_type": "code",
   "execution_count": 6,
   "outputs": [
    {
     "name": "stdout",
     "output_type": "stream",
     "text": [
      "Getting memory usage.\n",
      "Memory in: 10502.28 MB\n",
      "Starting integers.\n",
      "Downcast 5 standard integer columns.\n",
      "Starting floats.\n",
      "auto\n",
      "Skipping columns that are not np.float64\n",
      "Downcast 9 float columns.\n",
      "Starting objects.\n",
      "Converted 2 columns to categories.\n",
      "Memory out: 2336.77 MB Reduction: 77.7%\n",
      "\n"
     ]
    }
   ],
   "source": [
    "mr = skmem.MemReducer()\n",
    "test_data = mr.fit_transform(test_data)"
   ],
   "metadata": {
    "collapsed": false,
    "pycharm": {
     "name": "#%%\n"
    }
   }
  },
  {
   "cell_type": "code",
   "execution_count": 7,
   "outputs": [],
   "source": [
    "test_data['primary_use'] = pd.Categorical(test_data['primary_use']).codes"
   ],
   "metadata": {
    "collapsed": false,
    "pycharm": {
     "name": "#%%\n"
    }
   }
  },
  {
   "cell_type": "code",
   "execution_count": 8,
   "outputs": [
    {
     "data": {
      "text/plain": "building_id            0.000000\nmeter                  0.000000\ntimestamp              0.000000\nmeter_reading          0.000000\nsite_id                0.000000\nprimary_use            0.000000\nsquare_feet            0.000000\nyear_built            60.188531\nfloor_count           82.631315\nair_temperature        0.030623\ncloud_coverage        43.401776\ndew_temperature        0.047924\nprecip_depth_1_hr     18.178475\nsea_level_pressure     5.670259\nwind_direction         6.750371\nwind_speed             0.264245\ndtype: float64"
     },
     "execution_count": 8,
     "metadata": {},
     "output_type": "execute_result"
    }
   ],
   "source": [
    "train_data.isnull().sum() / len(train_data) * 100"
   ],
   "metadata": {
    "collapsed": false,
    "pycharm": {
     "name": "#%%\n"
    }
   }
  },
  {
   "cell_type": "code",
   "execution_count": 9,
   "outputs": [
    {
     "data": {
      "text/plain": "row_id                 0.000000\nbuilding_id            0.000000\nmeter                  0.000000\ntimestamp              0.000000\nsite_id                0.000000\nprimary_use            0.000000\nsquare_feet            0.000000\nyear_built            59.148082\nfloor_count           82.724073\nair_temperature        0.055115\ncloud_coverage        46.611607\ndew_temperature        0.148848\nprecip_depth_1_hr     18.319990\nsea_level_pressure     5.585245\nwind_direction         6.698144\nwind_speed             0.248346\ndtype: float64"
     },
     "execution_count": 9,
     "metadata": {},
     "output_type": "execute_result"
    }
   ],
   "source": [
    "test_data.isnull().sum() / len(test_data) * 100"
   ],
   "metadata": {
    "collapsed": false,
    "pycharm": {
     "name": "#%%\n"
    }
   }
  },
  {
   "cell_type": "code",
   "execution_count": 13,
   "outputs": [
    {
     "data": {
      "text/plain": "          building_id  meter            timestamp  meter_reading  site_id  \\\n0                   0      0  2016-01-01 00:00:00       0.000000        0   \n1                   1      0  2016-01-01 00:00:00       0.000000        0   \n2                   2      0  2016-01-01 00:00:00       0.000000        0   \n3                   3      0  2016-01-01 00:00:00       0.000000        0   \n4                   4      0  2016-01-01 00:00:00       0.000000        0   \n...               ...    ...                  ...            ...      ...   \n20125600         1400      1  2016-03-24 12:00:00      15.375300       15   \n20125601         1400      1  2016-03-24 13:00:00      25.084801       15   \n20125602         1400      1  2016-03-24 14:00:00      32.343899       15   \n20125603         1400      1  2016-03-24 15:00:00      24.221399       15   \n20125604         1400      1  2016-03-24 16:00:00      16.355301       15   \n\n          primary_use  square_feet  air_temperature  cloud_coverage  \\\n0                   0         7432             25.0             6.0   \n1                   0         2720             25.0             6.0   \n2                   0         5376             25.0             6.0   \n3                   0        23685             25.0             6.0   \n4                   0       116607             25.0             6.0   \n...               ...          ...              ...             ...   \n20125600            4        21168              1.7             NaN   \n20125601            4        21168              2.8             NaN   \n20125602            4        21168              5.6             NaN   \n20125603            4        21168             11.1             NaN   \n20125604            4        21168             15.0             4.0   \n\n          dew_temperature  precip_depth_1_hr  sea_level_pressure  \\\n0                    20.0                NaN         1019.700012   \n1                    20.0                NaN         1019.700012   \n2                    20.0                NaN         1019.700012   \n3                    20.0                NaN         1019.700012   \n4                    20.0                NaN         1019.700012   \n...                   ...                ...                 ...   \n20125600              1.7                NaN         1016.799988   \n20125601              2.2                NaN         1016.599976   \n20125602              4.4                NaN         1015.200012   \n20125603              4.4                NaN         1013.900024   \n20125604              4.4                NaN         1012.000000   \n\n          wind_direction  wind_speed  \n0                    0.0         0.0  \n1                    0.0         0.0  \n2                    0.0         0.0  \n3                    0.0         0.0  \n4                    0.0         0.0  \n...                  ...         ...  \n20125600             0.0         0.0  \n20125601           320.0         1.5  \n20125602           110.0         2.1  \n20125603           150.0         5.1  \n20125604           160.0         8.2  \n\n[20125605 rows x 14 columns]",
      "text/html": "<div>\n<style scoped>\n    .dataframe tbody tr th:only-of-type {\n        vertical-align: middle;\n    }\n\n    .dataframe tbody tr th {\n        vertical-align: top;\n    }\n\n    .dataframe thead th {\n        text-align: right;\n    }\n</style>\n<table border=\"1\" class=\"dataframe\">\n  <thead>\n    <tr style=\"text-align: right;\">\n      <th></th>\n      <th>building_id</th>\n      <th>meter</th>\n      <th>timestamp</th>\n      <th>meter_reading</th>\n      <th>site_id</th>\n      <th>primary_use</th>\n      <th>square_feet</th>\n      <th>air_temperature</th>\n      <th>cloud_coverage</th>\n      <th>dew_temperature</th>\n      <th>precip_depth_1_hr</th>\n      <th>sea_level_pressure</th>\n      <th>wind_direction</th>\n      <th>wind_speed</th>\n    </tr>\n  </thead>\n  <tbody>\n    <tr>\n      <th>0</th>\n      <td>0</td>\n      <td>0</td>\n      <td>2016-01-01 00:00:00</td>\n      <td>0.000000</td>\n      <td>0</td>\n      <td>0</td>\n      <td>7432</td>\n      <td>25.0</td>\n      <td>6.0</td>\n      <td>20.0</td>\n      <td>NaN</td>\n      <td>1019.700012</td>\n      <td>0.0</td>\n      <td>0.0</td>\n    </tr>\n    <tr>\n      <th>1</th>\n      <td>1</td>\n      <td>0</td>\n      <td>2016-01-01 00:00:00</td>\n      <td>0.000000</td>\n      <td>0</td>\n      <td>0</td>\n      <td>2720</td>\n      <td>25.0</td>\n      <td>6.0</td>\n      <td>20.0</td>\n      <td>NaN</td>\n      <td>1019.700012</td>\n      <td>0.0</td>\n      <td>0.0</td>\n    </tr>\n    <tr>\n      <th>2</th>\n      <td>2</td>\n      <td>0</td>\n      <td>2016-01-01 00:00:00</td>\n      <td>0.000000</td>\n      <td>0</td>\n      <td>0</td>\n      <td>5376</td>\n      <td>25.0</td>\n      <td>6.0</td>\n      <td>20.0</td>\n      <td>NaN</td>\n      <td>1019.700012</td>\n      <td>0.0</td>\n      <td>0.0</td>\n    </tr>\n    <tr>\n      <th>3</th>\n      <td>3</td>\n      <td>0</td>\n      <td>2016-01-01 00:00:00</td>\n      <td>0.000000</td>\n      <td>0</td>\n      <td>0</td>\n      <td>23685</td>\n      <td>25.0</td>\n      <td>6.0</td>\n      <td>20.0</td>\n      <td>NaN</td>\n      <td>1019.700012</td>\n      <td>0.0</td>\n      <td>0.0</td>\n    </tr>\n    <tr>\n      <th>4</th>\n      <td>4</td>\n      <td>0</td>\n      <td>2016-01-01 00:00:00</td>\n      <td>0.000000</td>\n      <td>0</td>\n      <td>0</td>\n      <td>116607</td>\n      <td>25.0</td>\n      <td>6.0</td>\n      <td>20.0</td>\n      <td>NaN</td>\n      <td>1019.700012</td>\n      <td>0.0</td>\n      <td>0.0</td>\n    </tr>\n    <tr>\n      <th>...</th>\n      <td>...</td>\n      <td>...</td>\n      <td>...</td>\n      <td>...</td>\n      <td>...</td>\n      <td>...</td>\n      <td>...</td>\n      <td>...</td>\n      <td>...</td>\n      <td>...</td>\n      <td>...</td>\n      <td>...</td>\n      <td>...</td>\n      <td>...</td>\n    </tr>\n    <tr>\n      <th>20125600</th>\n      <td>1400</td>\n      <td>1</td>\n      <td>2016-03-24 12:00:00</td>\n      <td>15.375300</td>\n      <td>15</td>\n      <td>4</td>\n      <td>21168</td>\n      <td>1.7</td>\n      <td>NaN</td>\n      <td>1.7</td>\n      <td>NaN</td>\n      <td>1016.799988</td>\n      <td>0.0</td>\n      <td>0.0</td>\n    </tr>\n    <tr>\n      <th>20125601</th>\n      <td>1400</td>\n      <td>1</td>\n      <td>2016-03-24 13:00:00</td>\n      <td>25.084801</td>\n      <td>15</td>\n      <td>4</td>\n      <td>21168</td>\n      <td>2.8</td>\n      <td>NaN</td>\n      <td>2.2</td>\n      <td>NaN</td>\n      <td>1016.599976</td>\n      <td>320.0</td>\n      <td>1.5</td>\n    </tr>\n    <tr>\n      <th>20125602</th>\n      <td>1400</td>\n      <td>1</td>\n      <td>2016-03-24 14:00:00</td>\n      <td>32.343899</td>\n      <td>15</td>\n      <td>4</td>\n      <td>21168</td>\n      <td>5.6</td>\n      <td>NaN</td>\n      <td>4.4</td>\n      <td>NaN</td>\n      <td>1015.200012</td>\n      <td>110.0</td>\n      <td>2.1</td>\n    </tr>\n    <tr>\n      <th>20125603</th>\n      <td>1400</td>\n      <td>1</td>\n      <td>2016-03-24 15:00:00</td>\n      <td>24.221399</td>\n      <td>15</td>\n      <td>4</td>\n      <td>21168</td>\n      <td>11.1</td>\n      <td>NaN</td>\n      <td>4.4</td>\n      <td>NaN</td>\n      <td>1013.900024</td>\n      <td>150.0</td>\n      <td>5.1</td>\n    </tr>\n    <tr>\n      <th>20125604</th>\n      <td>1400</td>\n      <td>1</td>\n      <td>2016-03-24 16:00:00</td>\n      <td>16.355301</td>\n      <td>15</td>\n      <td>4</td>\n      <td>21168</td>\n      <td>15.0</td>\n      <td>4.0</td>\n      <td>4.4</td>\n      <td>NaN</td>\n      <td>1012.000000</td>\n      <td>160.0</td>\n      <td>8.2</td>\n    </tr>\n  </tbody>\n</table>\n<p>20125605 rows × 14 columns</p>\n</div>"
     },
     "execution_count": 13,
     "metadata": {},
     "output_type": "execute_result"
    },
    {
     "name": "stdout",
     "output_type": "stream",
     "text": [
      "          building_id  meter            timestamp  meter_reading  site_id  \\\n",
      "0                   0      0  2016-01-01 00:00:00       0.000000        0   \n",
      "1                   1      0  2016-01-01 00:00:00       0.000000        0   \n",
      "2                   2      0  2016-01-01 00:00:00       0.000000        0   \n",
      "3                   3      0  2016-01-01 00:00:00       0.000000        0   \n",
      "4                   4      0  2016-01-01 00:00:00       0.000000        0   \n",
      "...               ...    ...                  ...            ...      ...   \n",
      "20125600         1400      1  2016-03-24 12:00:00      15.375300       15   \n",
      "20125601         1400      1  2016-03-24 13:00:00      25.084801       15   \n",
      "20125602         1400      1  2016-03-24 14:00:00      32.343899       15   \n",
      "20125603         1400      1  2016-03-24 15:00:00      24.221399       15   \n",
      "20125604         1400      1  2016-03-24 16:00:00      16.355301       15   \n",
      "\n",
      "          primary_use  square_feet  year_built  floor_count  air_temperature  \\\n",
      "0                   0         7432      2008.0          NaN             25.0   \n",
      "1                   0         2720      2004.0          NaN             25.0   \n",
      "2                   0         5376      1991.0          NaN             25.0   \n",
      "3                   0        23685      2002.0          NaN             25.0   \n",
      "4                   0       116607      1975.0          NaN             25.0   \n",
      "...               ...          ...         ...          ...              ...   \n",
      "20125600            4        21168      1928.0          NaN              1.7   \n",
      "20125601            4        21168      1928.0          NaN              2.8   \n",
      "20125602            4        21168      1928.0          NaN              5.6   \n",
      "20125603            4        21168      1928.0          NaN             11.1   \n",
      "20125604            4        21168      1928.0          NaN             15.0   \n",
      "\n",
      "          cloud_coverage  dew_temperature  precip_depth_1_hr  \\\n",
      "0                    6.0             20.0                NaN   \n",
      "1                    6.0             20.0                NaN   \n",
      "2                    6.0             20.0                NaN   \n",
      "3                    6.0             20.0                NaN   \n",
      "4                    6.0             20.0                NaN   \n",
      "...                  ...              ...                ...   \n",
      "20125600             NaN              1.7                NaN   \n",
      "20125601             NaN              2.2                NaN   \n",
      "20125602             NaN              4.4                NaN   \n",
      "20125603             NaN              4.4                NaN   \n",
      "20125604             4.0              4.4                NaN   \n",
      "\n",
      "          sea_level_pressure  wind_direction  wind_speed  \n",
      "0                1019.700012             0.0         0.0  \n",
      "1                1019.700012             0.0         0.0  \n",
      "2                1019.700012             0.0         0.0  \n",
      "3                1019.700012             0.0         0.0  \n",
      "4                1019.700012             0.0         0.0  \n",
      "...                      ...             ...         ...  \n",
      "20125600         1016.799988             0.0         0.0  \n",
      "20125601         1016.599976           320.0         1.5  \n",
      "20125602         1015.200012           110.0         2.1  \n",
      "20125603         1013.900024           150.0         5.1  \n",
      "20125604         1012.000000           160.0         8.2  \n",
      "\n",
      "[20125605 rows x 16 columns]\n"
     ]
    }
   ],
   "source": [
    "train_data.drop(columns=['year_built', 'floor_count'])\n",
    "print(train_data)"
   ],
   "metadata": {
    "collapsed": false,
    "pycharm": {
     "name": "#%%\n"
    }
   }
  }
 ],
 "metadata": {
  "kernelspec": {
   "display_name": "Python 3",
   "language": "python",
   "name": "python3"
  },
  "language_info": {
   "codemirror_mode": {
    "name": "ipython",
    "version": 2
   },
   "file_extension": ".py",
   "mimetype": "text/x-python",
   "name": "python",
   "nbconvert_exporter": "python",
   "pygments_lexer": "ipython2",
   "version": "2.7.6"
  }
 },
 "nbformat": 4,
 "nbformat_minor": 0
}