{
 "cells": [
  {
   "cell_type": "code",
   "execution_count": 1,
   "metadata": {
    "collapsed": true
   },
   "outputs": [],
   "source": [
    "import pandas as pd\n",
    "import numpy as np\n",
    "import skmem\n",
    "\n",
    "train_set = pd.read_csv('../data/train.csv')\n",
    "test_set = pd.read_csv('../data/test.csv')\n",
    "\n",
    "weather_train_set = pd.read_csv('../data/weather_train.csv')\n",
    "weather_test_set = pd.read_csv('../data/weather_test.csv')\n",
    "\n",
    "building_metadata = pd.read_csv('../data/building_metadata.csv')\n",
    "\n",
    "sample_submission = pd.read_csv('../data/sample_submission.csv')"
   ]
  },
  {
   "cell_type": "code",
   "execution_count": 2,
   "outputs": [],
   "source": [
    "train_data = pd.merge(train_set, building_metadata, on='building_id')\n",
    "train_data = pd.merge(train_data, weather_train_set, on=['site_id', 'timestamp'])"
   ],
   "metadata": {
    "collapsed": false,
    "pycharm": {
     "name": "#%%\n"
    }
   }
  },
  {
   "cell_type": "code",
   "execution_count": 3,
   "outputs": [
    {
     "name": "stdout",
     "output_type": "stream",
     "text": [
      "Getting memory usage.\n",
      "Memory in: 5092.41 MB\n",
      "Starting integers.\n",
      "Downcast 4 standard integer columns.\n",
      "Starting floats.\n",
      "auto\n",
      "Skipping columns that are not np.float64\n",
      "Downcast 10 float columns.\n",
      "Starting objects.\n",
      "Converted 2 columns to categories.\n",
      "Memory out: 1133.29 MB Reduction: 77.7%\n",
      "\n"
     ]
    }
   ],
   "source": [
    "mr = skmem.MemReducer()\n",
    "train_data = mr.fit_transform(train_data)"
   ],
   "metadata": {
    "collapsed": false,
    "pycharm": {
     "name": "#%%\n"
    }
   }
  },
  {
   "cell_type": "code",
   "execution_count": 4,
   "outputs": [],
   "source": [
    "train_data['primary_use'] = pd.Categorical(train_data['primary_use']).codes"
   ],
   "metadata": {
    "collapsed": false,
    "pycharm": {
     "name": "#%%\n"
    }
   }
  },
  {
   "cell_type": "code",
   "execution_count": 5,
   "outputs": [],
   "source": [
    "test_data = pd.merge(test_set, building_metadata, on='building_id')\n",
    "test_data = pd.merge(test_data, weather_test_set, on=['site_id', 'timestamp'])"
   ],
   "metadata": {
    "collapsed": false,
    "pycharm": {
     "name": "#%%\n"
    }
   }
  },
  {
   "cell_type": "code",
   "execution_count": 6,
   "outputs": [
    {
     "name": "stdout",
     "output_type": "stream",
     "text": [
      "Getting memory usage.\n",
      "Memory in: 10502.28 MB\n",
      "Starting integers.\n",
      "Downcast 5 standard integer columns.\n",
      "Starting floats.\n",
      "auto\n",
      "Skipping columns that are not np.float64\n",
      "Downcast 9 float columns.\n",
      "Starting objects.\n",
      "Converted 2 columns to categories.\n",
      "Memory out: 2336.77 MB Reduction: 77.7%\n",
      "\n"
     ]
    }
   ],
   "source": [
    "mr = skmem.MemReducer()\n",
    "test_data = mr.fit_transform(test_data)"
   ],
   "metadata": {
    "collapsed": false,
    "pycharm": {
     "name": "#%%\n"
    }
   }
  },
  {
   "cell_type": "code",
   "execution_count": 7,
   "outputs": [],
   "source": [
    "test_data['primary_use'] = pd.Categorical(test_data['primary_use']).codes"
   ],
   "metadata": {
    "collapsed": false,
    "pycharm": {
     "name": "#%%\n"
    }
   }
  },
  {
   "cell_type": "code",
   "execution_count": 36,
   "outputs": [
    {
     "data": {
      "text/plain": "building_id            0.000000\nmeter                  0.000000\ntimestamp              0.000000\nmeter_reading          0.000000\nsite_id                0.000000\nprimary_use            0.000000\nsquare_feet            0.000000\nair_temperature        0.014851\ncloud_coverage        21.048604\ndew_temperature        0.023242\nprecip_depth_1_hr      8.816034\nsea_level_pressure     2.749912\nwind_direction         3.273734\nwind_speed             0.128151\ndtype: float64"
     },
     "execution_count": 36,
     "metadata": {},
     "output_type": "execute_result"
    }
   ],
   "source": [
    "train_data.isnull().sum() / len(test_data) * 100"
   ],
   "metadata": {
    "collapsed": false,
    "pycharm": {
     "name": "#%%\n"
    }
   }
  },
  {
   "cell_type": "code",
   "execution_count": 9,
   "outputs": [
    {
     "data": {
      "text/plain": "row_id                 0.000000\nbuilding_id            0.000000\nmeter                  0.000000\ntimestamp              0.000000\nsite_id                0.000000\nprimary_use            0.000000\nsquare_feet            0.000000\nyear_built            59.148082\nfloor_count           82.724073\nair_temperature        0.055115\ncloud_coverage        46.611607\ndew_temperature        0.148848\nprecip_depth_1_hr     18.319990\nsea_level_pressure     5.585245\nwind_direction         6.698144\nwind_speed             0.248346\ndtype: float64"
     },
     "execution_count": 9,
     "metadata": {},
     "output_type": "execute_result"
    }
   ],
   "source": [
    "test_data.isnull().sum() / len(test_data) * 100"
   ],
   "metadata": {
    "collapsed": false,
    "pycharm": {
     "name": "#%%\n"
    }
   }
  },
  {
   "cell_type": "code",
   "execution_count": 44,
   "outputs": [],
   "source": [
    "train_data.drop(columns=['year_built', 'floor_count'], inplace=True)\n",
    "test_data.drop(columns=['year_built', 'floor_count'], inplace=True)"
   ],
   "metadata": {
    "collapsed": false,
    "pycharm": {
     "name": "#%%\n"
    }
   }
  },
  {
   "cell_type": "code",
   "execution_count": 37,
   "outputs": [],
   "source": [
    "na_features = ['air_temperature', 'cloud_coverage', 'dew_temperature', 'precip_depth_1_hr', 'sea_level_pressure', 'wind_direction', 'wind_speed']\n",
    "for feature in na_features:\n",
    "    train_data[feature] = train_data[feature].fillna(train_data[feature].mean())\n",
    "    test_data[feature] = test_data[feature].fillna(test_data[feature].mean())"
   ],
   "metadata": {
    "collapsed": false,
    "pycharm": {
     "name": "#%%\n"
    }
   }
  },
  {
   "cell_type": "code",
   "execution_count": 41,
   "outputs": [
    {
     "data": {
      "text/plain": "building_id           0\nmeter                 0\ntimestamp             0\nmeter_reading         0\nsite_id               0\nprimary_use           0\nsquare_feet           0\nair_temperature       0\ncloud_coverage        0\ndew_temperature       0\nprecip_depth_1_hr     0\nsea_level_pressure    0\nwind_direction        0\nwind_speed            0\ndtype: int64"
     },
     "execution_count": 41,
     "metadata": {},
     "output_type": "execute_result"
    }
   ],
   "source": [
    "train_data.isnull().sum()"
   ],
   "metadata": {
    "collapsed": false,
    "pycharm": {
     "name": "#%%\n"
    }
   }
  },
  {
   "cell_type": "code",
   "execution_count": 45,
   "outputs": [
    {
     "data": {
      "text/plain": "row_id                0\nbuilding_id           0\nmeter                 0\ntimestamp             0\nsite_id               0\nprimary_use           0\nsquare_feet           0\nair_temperature       0\ncloud_coverage        0\ndew_temperature       0\nprecip_depth_1_hr     0\nsea_level_pressure    0\nwind_direction        0\nwind_speed            0\ndtype: int64"
     },
     "execution_count": 45,
     "metadata": {},
     "output_type": "execute_result"
    }
   ],
   "source": [
    "test_data.isnull().sum()"
   ],
   "metadata": {
    "collapsed": false,
    "pycharm": {
     "name": "#%%\n"
    }
   }
  },
  {
   "cell_type": "code",
   "execution_count": 51,
   "outputs": [],
   "source": [
    "train_data['timestamp'] = pd.to_datetime(train_data['timestamp'])"
   ],
   "metadata": {
    "collapsed": false,
    "pycharm": {
     "name": "#%%\n"
    }
   }
  },
  {
   "cell_type": "code",
   "execution_count": 74,
   "outputs": [
    {
     "name": "stdout",
     "output_type": "stream",
     "text": [
      "          building_id  meter  meter_reading  site_id  primary_use  \\\n",
      "0                   0      0       0.000000        0            0   \n",
      "1                   1      0       0.000000        0            0   \n",
      "2                   2      0       0.000000        0            0   \n",
      "3                   3      0       0.000000        0            0   \n",
      "4                   4      0       0.000000        0            0   \n",
      "...               ...    ...            ...      ...          ...   \n",
      "20125600         1400      1      15.375300       15            4   \n",
      "20125601         1400      1      25.084801       15            4   \n",
      "20125602         1400      1      32.343899       15            4   \n",
      "20125603         1400      1      24.221399       15            4   \n",
      "20125604         1400      1      16.355301       15            4   \n",
      "\n",
      "          square_feet  air_temperature  cloud_coverage  dew_temperature  \\\n",
      "0                7432             25.0        6.000000             20.0   \n",
      "1                2720             25.0        6.000000             20.0   \n",
      "2                5376             25.0        6.000000             20.0   \n",
      "3               23685             25.0        6.000000             20.0   \n",
      "4              116607             25.0        6.000000             20.0   \n",
      "...               ...              ...             ...              ...   \n",
      "20125600        21168              1.7        1.900423              1.7   \n",
      "20125601        21168              2.8        1.900423              2.2   \n",
      "20125602        21168              5.6        1.900423              4.4   \n",
      "20125603        21168             11.1        1.900423              4.4   \n",
      "20125604        21168             15.0        4.000000              4.4   \n",
      "\n",
      "          precip_depth_1_hr  sea_level_pressure  wind_direction  wind_speed  \\\n",
      "0                  0.796416         1019.700012             0.0         0.0   \n",
      "1                  0.796416         1019.700012             0.0         0.0   \n",
      "2                  0.796416         1019.700012             0.0         0.0   \n",
      "3                  0.796416         1019.700012             0.0         0.0   \n",
      "4                  0.796416         1019.700012             0.0         0.0   \n",
      "...                     ...                 ...             ...         ...   \n",
      "20125600           0.796416         1016.799988             0.0         0.0   \n",
      "20125601           0.796416         1016.599976           320.0         1.5   \n",
      "20125602           0.796416         1015.200012           110.0         2.1   \n",
      "20125603           0.796416         1013.900024           150.0         5.1   \n",
      "20125604           0.796416         1012.000000           160.0         8.2   \n",
      "\n",
      "          hour  day  week  month  year  \n",
      "0            0    1    53      1  2016  \n",
      "1            0    1    53      1  2016  \n",
      "2            0    1    53      1  2016  \n",
      "3            0    1    53      1  2016  \n",
      "4            0    1    53      1  2016  \n",
      "...        ...  ...   ...    ...   ...  \n",
      "20125600    12   24    12      3  2016  \n",
      "20125601    13   24    12      3  2016  \n",
      "20125602    14   24    12      3  2016  \n",
      "20125603    15   24    12      3  2016  \n",
      "20125604    16   24    12      3  2016  \n",
      "\n",
      "[20125605 rows x 18 columns]\n"
     ]
    }
   ],
   "source": [
    "train_data['hour'] = train_data['timestamp'].dt.hour\n",
    "train_data['day'] = train_data['timestamp'].dt.day\n",
    "train_data['week'] = train_data['timestamp'].dt.isocalendar().week\n",
    "train_data['month'] = train_data['timestamp'].dt.month\n",
    "train_data['year'] = train_data['timestamp'].dt.year\n",
    "train_data.drop(columns='timestamp', inplace=True)\n",
    "print(train_data)"
   ],
   "metadata": {
    "collapsed": false,
    "pycharm": {
     "name": "#%%\n"
    }
   }
  },
  {
   "cell_type": "code",
   "execution_count": 75,
   "outputs": [
    {
     "name": "stdout",
     "output_type": "stream",
     "text": [
      "<class 'pandas.core.frame.DataFrame'>\n",
      "Int64Index: 20125605 entries, 0 to 20125604\n",
      "Data columns (total 18 columns):\n",
      " #   Column              Dtype  \n",
      "---  ------              -----  \n",
      " 0   building_id         uint16 \n",
      " 1   meter               uint8  \n",
      " 2   meter_reading       float32\n",
      " 3   site_id             uint8  \n",
      " 4   primary_use         int8   \n",
      " 5   square_feet         uint32 \n",
      " 6   air_temperature     float32\n",
      " 7   cloud_coverage      float32\n",
      " 8   dew_temperature     float32\n",
      " 9   precip_depth_1_hr   float32\n",
      " 10  sea_level_pressure  float32\n",
      " 11  wind_direction      float32\n",
      " 12  wind_speed          float32\n",
      " 13  hour                int64  \n",
      " 14  day                 int64  \n",
      " 15  week                UInt32 \n",
      " 16  month               int64  \n",
      " 17  year                int64  \n",
      "dtypes: UInt32(1), float32(8), int64(4), int8(1), uint16(1), uint32(1), uint8(2)\n",
      "memory usage: 1.6 GB\n"
     ]
    }
   ],
   "source": [
    "train_data.info()"
   ],
   "metadata": {
    "collapsed": false,
    "pycharm": {
     "name": "#%%\n"
    }
   }
  }
 ],
 "metadata": {
  "kernelspec": {
   "display_name": "Python 3",
   "language": "python",
   "name": "python3"
  },
  "language_info": {
   "codemirror_mode": {
    "name": "ipython",
    "version": 2
   },
   "file_extension": ".py",
   "mimetype": "text/x-python",
   "name": "python",
   "nbconvert_exporter": "python",
   "pygments_lexer": "ipython2",
   "version": "2.7.6"
  }
 },
 "nbformat": 4,
 "nbformat_minor": 0
}